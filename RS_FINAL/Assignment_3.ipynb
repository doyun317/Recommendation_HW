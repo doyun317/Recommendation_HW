{
 "cells": [
  {
   "cell_type": "markdown",
   "metadata": {},
   "source": [
    "# Assignment #3"
   ]
  },
  {
   "cell_type": "markdown",
   "metadata": {},
   "source": [
    "## Implement CF algorithm\n",
    "\n",
    "CF algorithm with baseline rating\n",
    "\n",
    "‐ Mandatory : User based\n",
    "\n",
    "‐ Optional (Extra point)\n",
    "\n",
    " 1.Item-based\n",
    "\n",
    " 2.Improve “basic algorithm with mean” or “basic algorithm with z-score\n",
    "\n",
    "‐ Reference\n",
    "    ‐ https://surprise.readthedocs.io/en/stable/knn_inspired.html"
   ]
  },
  {
   "cell_type": "markdown",
   "metadata": {},
   "source": [
    "### Using Jester-data-1 ( only contains 24983 users )\n",
    "\n",
    "### About Jester-data-1\n",
    "1. 3 Data files contain anonymous ratings data from 73,421 users.\n",
    "2. Data files are in .zip format, when unzipped, they are in Excel (.xls) format\n",
    "3. Ratings are real values ranging from -10.00 to +10.00 (the value \"99\" corresponds to \"null\" = \"not rated\").\n",
    "4. One row per user\n",
    "5. The first column gives the number of jokes rated by that user. The next 100 columns give the ratings for jokes 01 - 100.\n",
    "6. The sub-matrix including only columns {5, 7, 8, 13, 15, 16, 17, 18, 19, 20} is dense. Almost all users have rated those jokes (see discussion of \"universal queries\" in the above paper)."
   ]
  },
  {
   "cell_type": "markdown",
   "metadata": {},
   "source": [
    "### About Data\n",
    "1. user_id  : starts with 1 ends with 24983\n",
    "2. joke_num : starts with 1 ends with 100\n",
    "3. the first column (which is joke_num == 0) gives the number of jokes rated by that user\n",
    "4. the value \"99\" corresponds to \"null\" = \"not rated\""
   ]
  },
  {
   "cell_type": "code",
   "execution_count": 1,
   "metadata": {},
   "outputs": [],
   "source": [
    "from _func import Call_Jester\n",
    "from _func import Similarity\n",
    "from _func import CF_Algorithm\n",
    "\n",
    "import numpy as np\n",
    "import pandas as pd"
   ]
  },
  {
   "cell_type": "code",
   "execution_count": 2,
   "metadata": {},
   "outputs": [],
   "source": [
    "_jester = Call_Jester._Import_Data(r\"_data\\jester-data-1.csv\")"
   ]
  },
  {
   "cell_type": "code",
   "execution_count": 3,
   "metadata": {},
   "outputs": [],
   "source": [
    "jester_data = _jester._Call_Jester() "
   ]
  },
  {
   "cell_type": "code",
   "execution_count": 4,
   "metadata": {},
   "outputs": [],
   "source": [
    "_Simfunc_user = Similarity._similarity(jester_data)\n",
    "_Simfunc_item = Similarity._similarity(jester_data.T)"
   ]
  },
  {
   "cell_type": "code",
   "execution_count": 5,
   "metadata": {},
   "outputs": [],
   "source": [
    "Basic_CF_user = CF_Algorithm._CF(jester_data,_jester)\n",
    "Basic_CF_item = CF_Algorithm._CF(jester_data.T,_jester)"
   ]
  },
  {
   "cell_type": "code",
   "execution_count": 6,
   "metadata": {},
   "outputs": [
    {
     "data": {
      "text/plain": [
       "array([[0.39762235, 0.45153672, 0.34844867, ..., 0.17530812, 0.20232341,\n",
       "        0.20187679],\n",
       "       [1.27442461, 1.30991171, 0.84272628, ..., 0.64928615, 0.66905159,\n",
       "        0.71790396],\n",
       "       [0.83133266, 0.75232043, 0.76443543, ..., 0.13204653, 0.15906182,\n",
       "        0.1586152 ],\n",
       "       ...,\n",
       "       [0.53895091, 0.59286528, 0.48977723, ..., 0.31663668, 0.34365198,\n",
       "        0.34320536],\n",
       "       [0.51349547, 0.70274676, 0.30184985, ..., 0.07370192, 0.10071721,\n",
       "        0.53498612],\n",
       "       [0.5046472 , 0.55856157, 0.45547352, ..., 0.28233297, 0.30934827,\n",
       "        0.30890164]])"
      ]
     },
     "execution_count": 6,
     "metadata": {},
     "output_type": "execute_result"
    }
   ],
   "source": [
    "Basic_CF_user.basic_baseline_user(_Simfunc_user.COS(),2)"
   ]
  },
  {
   "cell_type": "code",
   "execution_count": 7,
   "metadata": {},
   "outputs": [
    {
     "data": {
      "text/plain": [
       "array([[0.76758259, 0.46369047, 0.30140373, ..., 0.37338905, 0.40545027,\n",
       "        0.35277402],\n",
       "       [0.82287757, 0.87679194, 0.77370389, ..., 0.60056334, 0.62757864,\n",
       "        0.62713202],\n",
       "       [0.45491952, 0.50883389, 0.40574583, ..., 0.23260529, 0.65520672,\n",
       "        0.25917396],\n",
       "       ...,\n",
       "       [0.825597  , 0.62781428, 0.49924903, ..., 0.26197624, 0.5064262 ,\n",
       "        0.45897855],\n",
       "       [0.5592755 , 0.85191936, 0.41379035, ..., 0.24064981, 0.2676651 ,\n",
       "        0.26721848],\n",
       "       [0.67544261, 0.62272543, 0.44757308, ..., 0.41912051, 0.45126397,\n",
       "        0.42733573]])"
      ]
     },
     "execution_count": 7,
     "metadata": {},
     "output_type": "execute_result"
    }
   ],
   "source": [
    "Basic_CF_user.basic_baseline_user(_Simfunc_user.PCC(),2)"
   ]
  },
  {
   "cell_type": "code",
   "execution_count": 8,
   "metadata": {},
   "outputs": [
    {
     "data": {
      "text/plain": [
       "array([[ 0.47211172,  1.12775451,  1.13964688, ...,  0.7135445 ,\n",
       "         0.27935319,  1.08607323],\n",
       "       [ 0.47175789,  1.5921713 ,  0.64695265, ...,  1.48785174,\n",
       "         0.49517166,  0.65741617],\n",
       "       [ 0.18702493,  1.21604827,  0.7356991 , ...,  0.67836119,\n",
       "         0.46659618,  0.7528267 ],\n",
       "       ...,\n",
       "       [-0.00696344,  0.99582126,  0.59156669, ...,  0.73630951,\n",
       "         0.49995678,  0.60523713],\n",
       "       [ 0.35119228,  1.25565096,  0.68151215, ...,  0.84091908,\n",
       "         0.45640095,  0.63129474],\n",
       "       [ 0.16197248,  0.7206597 ,  0.81509423, ...,  0.18597524,\n",
       "         0.78316352,  0.75343774]])"
      ]
     },
     "execution_count": 8,
     "metadata": {},
     "output_type": "execute_result"
    }
   ],
   "source": [
    "Basic_CF_item.basic_baseline_items(_Simfunc_item.COS(),2)"
   ]
  },
  {
   "cell_type": "code",
   "execution_count": 9,
   "metadata": {},
   "outputs": [
    {
     "data": {
      "text/plain": [
       "array([[ 0.33184286,  1.52024639,  0.898339  , ...,  0.71944861,\n",
       "         0.29505386,  1.0618806 ],\n",
       "       [ 0.48980984,  1.75490301,  1.16188226, ...,  1.1546545 ,\n",
       "         0.51322361,  0.67546812],\n",
       "       [ 0.24043263,  1.47064171,  0.80600223, ...,  0.69226225,\n",
       "         0.20780345,  0.56242049],\n",
       "       ...,\n",
       "       [ 0.10585654,  1.04505211,  0.70566464, ...,  0.98163708,\n",
       "         0.47323803,  0.6167195 ],\n",
       "       [ 0.20826734,  0.81039498,  0.30595467, ...,  0.68366018,\n",
       "         0.15417369,  0.74124128],\n",
       "       [-0.01035334,  0.97296504,  0.54749468, ...,  0.52178302,\n",
       "         0.75639673,  0.61992435]])"
      ]
     },
     "execution_count": 9,
     "metadata": {},
     "output_type": "execute_result"
    }
   ],
   "source": [
    "Basic_CF_item.basic_baseline_items(_Simfunc_item.PCC(),2)"
   ]
  }
 ],
 "metadata": {
  "kernelspec": {
   "display_name": "Python 3",
   "language": "python",
   "name": "python3"
  },
  "language_info": {
   "codemirror_mode": {
    "name": "ipython",
    "version": 3
   },
   "file_extension": ".py",
   "mimetype": "text/x-python",
   "name": "python",
   "nbconvert_exporter": "python",
   "pygments_lexer": "ipython3",
   "version": "3.6.5"
  }
 },
 "nbformat": 4,
 "nbformat_minor": 2
}
