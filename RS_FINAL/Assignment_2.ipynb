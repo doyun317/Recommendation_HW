{
 "cells": [
  {
   "cell_type": "markdown",
   "metadata": {},
   "source": [
    "# Assignment #2"
   ]
  },
  {
   "cell_type": "markdown",
   "metadata": {},
   "source": [
    "## Calculate similarity of users in your data set\n",
    "\n",
    "‐ Choosing three similarity measures\n",
    "\n",
    "‐ Mandatory: COS and PCC\n",
    "\n",
    "‐ Choose another one anything you want"
   ]
  },
  {
   "cell_type": "markdown",
   "metadata": {},
   "source": [
    "### Using Jester-data-1 ( only contains 24983 users )\n",
    "\n",
    "### About Jester-data-1\n",
    "1. 3 Data files contain anonymous ratings data from 73,421 users.\n",
    "2. Data files are in .zip format, when unzipped, they are in Excel (.xls) format\n",
    "3. Ratings are real values ranging from -10.00 to +10.00 (the value \"99\" corresponds to \"null\" = \"not rated\").\n",
    "4. One row per user\n",
    "5. The first column gives the number of jokes rated by that user. The next 100 columns give the ratings for jokes 01 - 100.\n",
    "6. The sub-matrix including only columns {5, 7, 8, 13, 15, 16, 17, 18, 19, 20} is dense. Almost all users have rated those jokes (see discussion of \"universal queries\" in the above paper)."
   ]
  },
  {
   "cell_type": "markdown",
   "metadata": {},
   "source": [
    "### About Data\n",
    "1. user_id  : starts with 1 ends with 24983\n",
    "2. joke_num : starts with 1 ends with 100\n",
    "3. the first column (which is joke_num == 0) gives the number of jokes rated by that user\n",
    "4. the value \"99\" corresponds to \"null\" = \"not rated\""
   ]
  },
  {
   "cell_type": "code",
   "execution_count": 1,
   "metadata": {},
   "outputs": [],
   "source": [
    "import numpy as np\n",
    "import pandas as pd\n",
    "\n",
    "from _func import Call_Jester\n",
    "from _func import Similarity"
   ]
  },
  {
   "cell_type": "code",
   "execution_count": 2,
   "metadata": {},
   "outputs": [],
   "source": [
    "_jester=Call_Jester._Import_Data(r\"_data\\jester-data-1.csv\")\n",
    "jester_data = _jester._Call_Jester()  # jester.mu\n",
    "df = pd.DataFrame(jester_data)"
   ]
  },
  {
   "cell_type": "code",
   "execution_count": 3,
   "metadata": {},
   "outputs": [],
   "source": [
    "jester = Similarity._similarity(jester_data)"
   ]
  },
  {
   "cell_type": "code",
   "execution_count": 4,
   "metadata": {},
   "outputs": [
    {
     "data": {
      "text/plain": [
       "array([[0.        , 0.59913854, 0.78912302, ..., 0.66318765, 0.80579778,\n",
       "        0.75393565],\n",
       "       [0.59913854, 0.        , 0.91246041, ..., 0.76418564, 0.89201565,\n",
       "        0.80199813],\n",
       "       [0.78912302, 0.91246041, 0.        , ..., 0.84957223, 0.89765365,\n",
       "        0.92210132],\n",
       "       ...,\n",
       "       [0.66318765, 0.76418564, 0.84957223, ..., 0.        , 0.83851185,\n",
       "        0.79228678],\n",
       "       [0.80579778, 0.89201565, 0.89765365, ..., 0.83851185, 0.        ,\n",
       "        0.91828837],\n",
       "       [0.75393565, 0.80199813, 0.92210132, ..., 0.79228678, 0.91828837,\n",
       "        0.        ]])"
      ]
     },
     "execution_count": 4,
     "metadata": {},
     "output_type": "execute_result"
    }
   ],
   "source": [
    "jester.COS()"
   ]
  },
  {
   "cell_type": "code",
   "execution_count": 5,
   "metadata": {},
   "outputs": [
    {
     "data": {
      "text/plain": [
       "array([[-1.        , -0.30896816,  0.05702589, ...,  0.12035605,\n",
       "         0.17642222,  0.33185527],\n",
       "       [-0.30896816, -1.        , -0.00181169, ..., -0.17236068,\n",
       "         0.12427836, -0.276338  ],\n",
       "       [ 0.05702589, -0.00181169, -1.        , ..., -0.13188322,\n",
       "         0.05186439, -0.04820536],\n",
       "       ...,\n",
       "       [ 0.12035605, -0.17236068, -0.13188322, ..., -1.        ,\n",
       "         0.15770154,  0.05554445],\n",
       "       [ 0.17642222,  0.12427836,  0.05186439, ...,  0.15770154,\n",
       "        -1.        ,  0.33555199],\n",
       "       [ 0.33185527, -0.276338  , -0.04820536, ...,  0.05554445,\n",
       "         0.33555199, -1.        ]])"
      ]
     },
     "execution_count": 5,
     "metadata": {},
     "output_type": "execute_result"
    }
   ],
   "source": [
    "jester.PCC()"
   ]
  },
  {
   "cell_type": "code",
   "execution_count": 6,
   "metadata": {},
   "outputs": [
    {
     "data": {
      "text/plain": [
       "array([[1.        , 0.7       , 0.52564103, ..., 0.7       , 0.48684211,\n",
       "        0.90540541],\n",
       "       [0.7       , 1.        , 0.47      , ..., 0.98      , 0.42424242,\n",
       "        0.69      ],\n",
       "       [0.52564103, 0.47      , 1.        , ..., 0.48484848, 0.69811321,\n",
       "        0.57333333],\n",
       "       ...,\n",
       "       [0.7       , 0.98      , 0.48484848, ..., 1.        , 0.42424242,\n",
       "        0.69      ],\n",
       "       [0.48684211, 0.42424242, 0.69811321, ..., 0.42424242, 1.        ,\n",
       "        0.51351351],\n",
       "       [0.90540541, 0.69      , 0.57333333, ..., 0.69      , 0.51351351,\n",
       "        1.        ]])"
      ]
     },
     "execution_count": 6,
     "metadata": {},
     "output_type": "execute_result"
    }
   ],
   "source": [
    "jester.JAC()"
   ]
  },
  {
   "cell_type": "code",
   "execution_count": 7,
   "metadata": {},
   "outputs": [
    {
     "data": {
      "text/plain": [
       "array([[0.        , 0.32687561, 0.31706716, ..., 0.16475636, 0.18977628,\n",
       "        0.20437134],\n",
       "       [0.32687561, 0.        , 0.16538852, ..., 0.21625323, 0.10537391,\n",
       "        0.19372376],\n",
       "       [0.31706716, 0.16538852, 0.        , ..., 0.27804044, 0.16089037,\n",
       "        0.13444   ],\n",
       "       ...,\n",
       "       [0.16475636, 0.21625323, 0.27804044, ..., 0.        , 0.15188669,\n",
       "        0.17539395],\n",
       "       [0.18977628, 0.10537391, 0.16089037, ..., 0.15188669, 0.        ,\n",
       "        0.08919439],\n",
       "       [0.20437134, 0.19372376, 0.13444   , ..., 0.17539395, 0.08919439,\n",
       "        0.        ]])"
      ]
     },
     "execution_count": 7,
     "metadata": {},
     "output_type": "execute_result"
    }
   ],
   "source": [
    "jester.MSD()"
   ]
  },
  {
   "cell_type": "code",
   "execution_count": 8,
   "metadata": {},
   "outputs": [
    {
     "data": {
      "text/plain": [
       "array([[1.        , 0.47118708, 0.35897752, ..., 0.58467055, 0.39445102,\n",
       "        0.72036649],\n",
       "       [0.47118708, 1.        , 0.3922674 , ..., 0.76807183, 0.37953834,\n",
       "        0.55633061],\n",
       "       [0.35897752, 0.3922674 , 1.        , ..., 0.350041  , 0.58579351,\n",
       "        0.4962544 ],\n",
       "       ...,\n",
       "       [0.58467055, 0.76807183, 0.350041  , ..., 1.        , 0.35980565,\n",
       "        0.56897818],\n",
       "       [0.39445102, 0.37953834, 0.58579351, ..., 0.35980565, 1.        ,\n",
       "        0.46771099],\n",
       "       [0.72036649, 0.55633061, 0.4962544 , ..., 0.56897818, 0.46771099,\n",
       "        1.        ]])"
      ]
     },
     "execution_count": 8,
     "metadata": {},
     "output_type": "execute_result"
    }
   ],
   "source": [
    "jester.JMSD(1)"
   ]
  }
 ],
 "metadata": {
  "kernelspec": {
   "display_name": "Python 3",
   "language": "python",
   "name": "python3"
  },
  "language_info": {
   "codemirror_mode": {
    "name": "ipython",
    "version": 3
   },
   "file_extension": ".py",
   "mimetype": "text/x-python",
   "name": "python",
   "nbconvert_exporter": "python",
   "pygments_lexer": "ipython3",
   "version": "3.6.5"
  }
 },
 "nbformat": 4,
 "nbformat_minor": 2
}
